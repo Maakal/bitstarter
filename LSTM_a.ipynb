{
  "nbformat": 4,
  "nbformat_minor": 0,
  "metadata": {
    "colab": {
      "name": "LSTM_a.ipynb",
      "provenance": [],
      "collapsed_sections": [],
      "authorship_tag": "ABX9TyOc4F+AfUNWrm3X40PneWPl",
      "include_colab_link": true
    },
    "kernelspec": {
      "name": "python3",
      "display_name": "Python 3"
    },
    "language_info": {
      "name": "python"
    }
  },
  "cells": [
    {
      "cell_type": "markdown",
      "metadata": {
        "id": "view-in-github",
        "colab_type": "text"
      },
      "source": [
        "<a href=\"https://colab.research.google.com/github/Maakal/bitstarter/blob/master/LSTM_a.ipynb\" target=\"_parent\"><img src=\"https://colab.research.google.com/assets/colab-badge.svg\" alt=\"Open In Colab\"/></a>"
      ]
    },
    {
      "cell_type": "code",
      "metadata": {
        "id": "PSeL2zxLH2U9"
      },
      "source": [
        "#import the libraries\n",
        "import math\n",
        "import pandas_datareader as web\n",
        "import numpy as np\n",
        "import pandas as pd\n",
        "from sklearn.preprocessing import MinMaxScaler\n",
        "from keras.models import Sequential\n",
        "from keras.layers import Dense, LSTM\n",
        "import matplotlib.pyplot as plt\n",
        "plt.style.use('fivethirtyeight')\n"
      ],
      "execution_count": 99,
      "outputs": []
    },
    {
      "cell_type": "code",
      "metadata": {
        "id": "gsldvYhWIRiz"
      },
      "source": [
        "#get the stock quote\n",
        "df = web.DataReader('MSFT', data_source='yahoo', start='2005-01-01', end='2022-12-17')\n",
        "#show the data\n",
        "#df\n",
        "df.shape\n",
        "plt.figure(figsize=(16,8))\n",
        "plt.title('Close Price History')\n",
        "plt.plot(df['Close'])\n",
        "plt.xlabel('Date',fontsize = 18)\n",
        "plt.xlabel('Close Price USD', fontsize=18)\n",
        "plt.show()\n"
      ],
      "execution_count": null,
      "outputs": []
    },
    {
      "cell_type": "code",
      "metadata": {
        "colab": {
          "base_uri": "https://localhost:8080/"
        },
        "id": "ipg7SjP_K4K0",
        "outputId": "810b9c9e-9f5e-413d-8130-2f0b5b2cb691"
      },
      "source": [
        "#Create new dataframe with only Close\n",
        "data = df.filter(['Close'])\n",
        "#convert the dataframe to numpy array\n",
        "dataset = data.values\n",
        "#get the number of rows to train the model\n",
        "training_data_len = math.ceil(len(dataset)*0.7)\n",
        "training_data_len\n"
      ],
      "execution_count": 101,
      "outputs": [
        {
          "output_type": "execute_result",
          "data": {
            "text/plain": [
              "2883"
            ]
          },
          "metadata": {
            "tags": []
          },
          "execution_count": 101
        }
      ]
    },
    {
      "cell_type": "code",
      "metadata": {
        "id": "mQ4x3R8aLaR9"
      },
      "source": [
        "#scale the data\n",
        "scaler = MinMaxScaler(feature_range=(0,1))\n",
        "scaled_data = scaler.fit_transform(dataset)\n"
      ],
      "execution_count": 102,
      "outputs": []
    },
    {
      "cell_type": "code",
      "metadata": {
        "colab": {
          "base_uri": "https://localhost:8080/"
        },
        "id": "XmtFyx26L3Pb",
        "outputId": "c926a965-97bf-427f-9da2-5615c5067eeb"
      },
      "source": [
        "#Create the training data set\n",
        "#create the scaled training data set\n",
        "train_data = scaled_data[0:training_data_len, :]\n",
        "#split the data into x_train and y_train data sets\n",
        "x_train = []\n",
        "y_train = []\n",
        "\n",
        "for i in range(21,len(train_data)):\n",
        "  x_train.append(train_data[i-21:i, 0])\n",
        "  y_train.append(train_data[i, 0])\n",
        "\n",
        "#convert the x_train and y_train to numpy arrays\n",
        "x_train, y_train = np.array(x_train), np.array(y_train)\n",
        "x_train = np.reshape(x_train, (x_train.shape[0], x_train.shape[1], 1))\n",
        "#reshape the data\n",
        "x_train.shape"
      ],
      "execution_count": 103,
      "outputs": [
        {
          "output_type": "execute_result",
          "data": {
            "text/plain": [
              "(2862, 21, 1)"
            ]
          },
          "metadata": {
            "tags": []
          },
          "execution_count": 103
        }
      ]
    },
    {
      "cell_type": "code",
      "metadata": {
        "id": "UII11VxZQl7J"
      },
      "source": [
        "#bild the LSTM model\n",
        "model = Sequential()\n",
        "model.add(LSTM(60,return_sequences=True, input_shape=(x_train.shape[1],1)))\n",
        "model.add(LSTM(360, return_sequences=False))\n",
        "model.add(Dense(60))\n",
        "model.add(Dense(1))\n",
        "\n",
        "\n"
      ],
      "execution_count": 104,
      "outputs": []
    },
    {
      "cell_type": "code",
      "metadata": {
        "id": "JoJQ6EEBRJc1"
      },
      "source": [
        "#compile the model\n",
        "model.compile(optimizer='adam', loss ='mean_squared_error')\n"
      ],
      "execution_count": 105,
      "outputs": []
    },
    {
      "cell_type": "code",
      "metadata": {
        "colab": {
          "base_uri": "https://localhost:8080/"
        },
        "id": "Ei-w6zjwRS_x",
        "outputId": "b8f9c858-9623-43c9-9692-4f207d6c6078"
      },
      "source": [
        "#train the model\n",
        "model.fit(x_train, y_train, batch_size=1, epochs=1)\n"
      ],
      "execution_count": 106,
      "outputs": [
        {
          "output_type": "stream",
          "text": [
            "2862/2862 [==============================] - 108s 37ms/step - loss: 1.3873e-04\n"
          ],
          "name": "stdout"
        },
        {
          "output_type": "execute_result",
          "data": {
            "text/plain": [
              "<tensorflow.python.keras.callbacks.History at 0x7f13b67cbf10>"
            ]
          },
          "metadata": {
            "tags": []
          },
          "execution_count": 106
        }
      ]
    },
    {
      "cell_type": "code",
      "metadata": {
        "id": "UcHVSKbYRnVa"
      },
      "source": [
        "#Create the testing dataset\n",
        "#create a new array contaning scaled values from index 1543 to 2003\n",
        "test_data = scaled_data[training_data_len - 21 :, ]\n",
        "#create the data sets x_test and y_test\n",
        "x_test = []\n",
        "y_test = dataset[training_data_len:, :]\n",
        "for i in range(21, len(test_data)):\n",
        "  x_test.append(test_data[i-21:i,0])\n",
        "\n",
        "#convert the data to a numpy array\n",
        "x_test = np.array(x_test)\n",
        "\n"
      ],
      "execution_count": 107,
      "outputs": []
    },
    {
      "cell_type": "code",
      "metadata": {
        "id": "hfWsNrT_U4qd"
      },
      "source": [
        ""
      ],
      "execution_count": 107,
      "outputs": []
    },
    {
      "cell_type": "code",
      "metadata": {
        "id": "HvOZ0t72TQfp"
      },
      "source": [
        "#reshape the data\n",
        "\n",
        "x_test = np.reshape(x_test, (x_test.shape[0], x_test.shape[1], 1))\n",
        "\n",
        "\n"
      ],
      "execution_count": 108,
      "outputs": []
    },
    {
      "cell_type": "code",
      "metadata": {
        "id": "CCJT-_TBToKv"
      },
      "source": [
        "#get the models predicted price values\n",
        "predictions = model.predict(x_test)\n",
        "predictions = scaler.inverse_transform(predictions)\n"
      ],
      "execution_count": 109,
      "outputs": []
    },
    {
      "cell_type": "code",
      "metadata": {
        "colab": {
          "base_uri": "https://localhost:8080/"
        },
        "id": "cA4PY1AmUDtF",
        "outputId": "0ec2cbef-3817-4427-b0d4-a90644df196e"
      },
      "source": [
        "#evaluate model\n",
        "#get the root mean squared error (RMSE)\n",
        "rmse = np.sqrt(np.mean(predictions - y_test)**2)\n",
        "rmse\n"
      ],
      "execution_count": 110,
      "outputs": [
        {
          "output_type": "execute_result",
          "data": {
            "text/plain": [
              "0.4434115822981244"
            ]
          },
          "metadata": {
            "tags": []
          },
          "execution_count": 110
        }
      ]
    },
    {
      "cell_type": "code",
      "metadata": {
        "colab": {
          "base_uri": "https://localhost:8080/",
          "height": 660
        },
        "id": "Cuj7v8ynUpmA",
        "outputId": "1bf7a689-3fbb-40a0-acb0-b1bf350bedf2"
      },
      "source": [
        "#plot the data\n",
        "train = data[:training_data_len]\n",
        "valid = data[training_data_len:]\n",
        "valid['Predictions'] = predictions\n",
        "#visualise model\n",
        "plt.figure(figsize=(16,8))\n",
        "plt.title('Model')\n",
        "plt.xlabel('Date, fontsize = 18')\n",
        "plt.ylabel('Close Price $, fontsize = 18')\n",
        "\n",
        "plt.plot(train['Close'])\n",
        "plt.plot(valid[['Close','Predictions']])\n",
        "plt.legend(['Train','Val','Predictions'], loc='lower right')\n",
        "plt.show()\n"
      ],
      "execution_count": 111,
      "outputs": [
        {
          "output_type": "stream",
          "text": [
            "/usr/local/lib/python3.7/dist-packages/ipykernel_launcher.py:4: SettingWithCopyWarning: \n",
            "A value is trying to be set on a copy of a slice from a DataFrame.\n",
            "Try using .loc[row_indexer,col_indexer] = value instead\n",
            "\n",
            "See the caveats in the documentation: https://pandas.pydata.org/pandas-docs/stable/user_guide/indexing.html#returning-a-view-versus-a-copy\n",
            "  after removing the cwd from sys.path.\n"
          ],
          "name": "stderr"
        },
        {
          "output_type": "display_data",
          "data": {
            "image/png": "[encoded data removed]",
            "text/plain": [
              "<Figure size 1152x576 with 1 Axes>"
            ]
          },
          "metadata": {
            "tags": []
          }
        }
      ]
    },
    {
      "cell_type": "code",
      "metadata": {
        "colab": {
          "base_uri": "https://localhost:8080/",
          "height": 450
        },
        "id": "-O49WiVcVtgu",
        "outputId": "fedadf42-e5c6-49bb-f290-2146e8f90f6b"
      },
      "source": [
        "#show valid and predicted prices\n",
        "valid"
      ],
      "execution_count": 112,
      "outputs": [
        {
          "output_type": "execute_result",
          "data": {
            "text/html": [
              "<div>\n",
              "<style scoped>\n",
              "    .dataframe tbody tr th:only-of-type {\n",
              "        vertical-align: middle;\n",
              "    }\n",
              "\n",
              "    .dataframe tbody tr th {\n",
              "        vertical-align: top;\n",
              "    }\n",
              "\n",
              "    .dataframe thead th {\n",
              "        text-align: right;\n",
              "    }\n",
              "</style>\n",
              "<table border=\"1\" class=\"dataframe\">\n",
              "  <thead>\n",
              "    <tr style=\"text-align: right;\">\n",
              "      <th></th>\n",
              "      <th>Close</th>\n",
              "      <th>Predictions</th>\n",
              "    </tr>\n",
              "    <tr>\n",
              "      <th>Date</th>\n",
              "      <th></th>\n",
              "      <th></th>\n",
              "    </tr>\n",
              "  </thead>\n",
              "  <tbody>\n",
              "    <tr>\n",
              "      <th>2016-06-16</th>\n",
              "      <td>50.389999</td>\n",
              "      <td>50.562389</td>\n",
              "    </tr>\n",
              "    <tr>\n",
              "      <th>2016-06-17</th>\n",
              "      <td>50.130001</td>\n",
              "      <td>50.664440</td>\n",
              "    </tr>\n",
              "    <tr>\n",
              "      <th>2016-06-20</th>\n",
              "      <td>50.070000</td>\n",
              "      <td>50.653877</td>\n",
              "    </tr>\n",
              "    <tr>\n",
              "      <th>2016-06-21</th>\n",
              "      <td>51.189999</td>\n",
              "      <td>50.596313</td>\n",
              "    </tr>\n",
              "    <tr>\n",
              "      <th>2016-06-22</th>\n",
              "      <td>50.990002</td>\n",
              "      <td>50.976215</td>\n",
              "    </tr>\n",
              "    <tr>\n",
              "      <th>...</th>\n",
              "      <td>...</td>\n",
              "      <td>...</td>\n",
              "    </tr>\n",
              "    <tr>\n",
              "      <th>2021-05-06</th>\n",
              "      <td>249.729996</td>\n",
              "      <td>248.502182</td>\n",
              "    </tr>\n",
              "    <tr>\n",
              "      <th>2021-05-07</th>\n",
              "      <td>252.460007</td>\n",
              "      <td>248.837784</td>\n",
              "    </tr>\n",
              "    <tr>\n",
              "      <th>2021-05-10</th>\n",
              "      <td>247.179993</td>\n",
              "      <td>250.167633</td>\n",
              "    </tr>\n",
              "    <tr>\n",
              "      <th>2021-05-11</th>\n",
              "      <td>246.229996</td>\n",
              "      <td>248.896347</td>\n",
              "    </tr>\n",
              "    <tr>\n",
              "      <th>2021-05-12</th>\n",
              "      <td>239.520004</td>\n",
              "      <td>247.567581</td>\n",
              "    </tr>\n",
              "  </tbody>\n",
              "</table>\n",
              "<p>1235 rows × 2 columns</p>\n",
              "</div>"
            ],
            "text/plain": [
              "                 Close  Predictions\n",
              "Date                               \n",
              "2016-06-16   50.389999    50.562389\n",
              "2016-06-17   50.130001    50.664440\n",
              "2016-06-20   50.070000    50.653877\n",
              "2016-06-21   51.189999    50.596313\n",
              "2016-06-22   50.990002    50.976215\n",
              "...                ...          ...\n",
              "2021-05-06  249.729996   248.502182\n",
              "2021-05-07  252.460007   248.837784\n",
              "2021-05-10  247.179993   250.167633\n",
              "2021-05-11  246.229996   248.896347\n",
              "2021-05-12  239.520004   247.567581\n",
              "\n",
              "[1235 rows x 2 columns]"
            ]
          },
          "metadata": {
            "tags": []
          },
          "execution_count": 112
        }
      ]
    }
  ]
}